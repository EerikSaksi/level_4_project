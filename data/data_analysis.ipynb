{
 "cells": [
  {
   "cell_type": "code",
   "execution_count": null,
   "id": "ultimate-player",
   "metadata": {},
   "outputs": [],
   "source": []
  },
  {
   "cell_type": "code",
   "execution_count": 211,
   "id": "chinese-still",
   "metadata": {},
   "outputs": [],
   "source": [
    "from os import environ\n",
    "from sqlalchemy import create_engine\n",
    "import pandas as pd"
   ]
  },
  {
   "cell_type": "code",
   "execution_count": 335,
   "id": "sixth-midnight",
   "metadata": {},
   "outputs": [],
   "source": [
    "user_df = pd.read_sql_table(\n",
    "    \"user\",\n",
    "    con=engine,\n",
    "    schema='public',\n",
    "    coerce_float=True,\n",
    "    parse_dates=['created_at'],\n",
    ")\n",
    "\n",
    "chat_df = pd.read_sql_table(\n",
    "    \"chat_message\",\n",
    "    con=engine,\n",
    "    schema='public',\n",
    "    index_col = 'id',\n",
    "    coerce_float=True,\n",
    "    parse_dates=[\n",
    "        'created_at',\n",
    "        'updated_at'\n",
    "    ],\n",
    ")\n",
    "group_df = pd.read_sql_table(\n",
    "    \"group\",\n",
    "    con=engine,\n",
    "    schema='public',\n",
    "    index_col = 'name',\n",
    "    coerce_float=True,\n",
    "    parse_dates=[\n",
    "        'created_at',\n",
    "        'updated_at'\n",
    "    ],\n",
    ")\n",
    "\n",
    "workout_df = pd.read_sql_table(\n",
    "    \"workout\",\n",
    "    con=engine,\n",
    "    schema='public',\n",
    "    index_col = 'id',\n",
    "    coerce_float=True,\n",
    "    parse_dates=[\n",
    "        'created_at',\n",
    "        'updated_at'\n",
    "    ],\n",
    ")\n",
    "\n",
    "\n",
    "user_exercise_df = pd.read_sql_table(\n",
    "    \"user_exercise\",\n",
    "    con=engine,\n",
    "    schema='public',\n",
    "    index_col = ['slug_name', 'username'],\n",
    "    coerce_float=True,\n",
    "    parse_dates=[\n",
    "        'created_at',\n",
    "        'updated_at'\n",
    "    ],\n",
    ")\n",
    "\n",
    "battle_df = pd.read_sql_table(\n",
    "    \"battle\",\n",
    "    con=engine,\n",
    "    schema='public',\n",
    "    coerce_float=True,\n",
    "    parse_dates=[\n",
    "        'created_at',\n",
    "        'updated_at'\n",
    "    ],\n",
    ")\n",
    "\n",
    "\n",
    "session_analytics_df = pd.read_sql('select id, username, created_at, array_to_json(analytics) as path from \"session_analytics\"', con = engine)\n",
    "\n",
    "\n",
    "\n",
    "\n"
   ]
  },
  {
   "cell_type": "code",
   "execution_count": 213,
   "id": "historic-sphere",
   "metadata": {},
   "outputs": [],
   "source": [
    "from datetime import datetime, timedelta\n",
    "created_at = session_analytics_df.iloc[0]['created_at']\n",
    "sections = []\n",
    "\n",
    "for row in session_analytics_df.iterrows():\n",
    "    for section in row[1]['path']:\n",
    "        sections.append([row[1]['id'], section['section'], created_at])\n",
    "        created_at += timedelta(seconds=section['time_spent'])"
   ]
  },
  {
   "cell_type": "code",
   "execution_count": 214,
   "id": "automatic-filename",
   "metadata": {},
   "outputs": [],
   "source": [
    "section_to_ID = {\"strengthModalVisible\": 0,\n",
    "                 \"workoutModalVisible\": 1,\n",
    "                 \"chatModalVisible\": 2,\n",
    "                 \"UserTab\": 3,\n",
    "                 \"MembersTab\": 4, \n",
    "                 \"EnemyTab\": 5}\n",
    "#[i][j] should denote the number of times i lead to j\n",
    "section_before_after = [[0 for i in range(7)] for i in range(7)]"
   ]
  },
  {
   "cell_type": "code",
   "execution_count": 215,
   "id": "decent-acting",
   "metadata": {},
   "outputs": [],
   "source": [
    "for row in session_analytics_df.iterrows():\n",
    "    previous_section_id = None\n",
    "    for section in row[1]['path']:\n",
    "        try:\n",
    "            current_id = section_to_ID[section['section']]\n",
    "        except:\n",
    "            continue\n",
    "        if previous_section_id != None: \n",
    "            section_before_after[previous_section_id][current_id] += 1\n",
    "        previous_section_id = current_id\n",
    "\n",
    "for i in range(7):\n",
    "    section_before_after[i][i] = 0"
   ]
  },
  {
   "cell_type": "code",
   "execution_count": 216,
   "id": "optical-chaos",
   "metadata": {},
   "outputs": [],
   "source": [
    "source = []\n",
    "target = []\n",
    "value = []\n",
    "for r in range(7):\n",
    "    for c in range(7):\n",
    "        count = section_before_after[r][c]\n",
    "        if count:\n",
    "            source.append(r)\n",
    "            target.append(c)\n",
    "            value.append(count)\n",
    "            \n",
    "source_colors = [\"orange\", \"green\", \"red\", \"purple\", \"brown\", \"gray\"]\n",
    "color = [source_colors[val] for val in source]"
   ]
  },
  {
   "cell_type": "code",
   "execution_count": 218,
   "id": "parliamentary-separate",
   "metadata": {},
   "outputs": [
    {
     "data": {
      "application/vnd.plotly.v1+json": {
       "config": {
        "plotlyServerURL": "https://plot.ly"
       },
       "data": [
        {
         "link": {
          "color": [
           "orange",
           "green",
           "green",
           "red",
           "red",
           "purple",
           "purple",
           "purple",
           "purple",
           "brown",
           "brown",
           "brown",
           "gray",
           "gray",
           "gray"
          ],
          "source": [
           0,
           1,
           1,
           2,
           2,
           3,
           3,
           3,
           3,
           4,
           4,
           4,
           5,
           5,
           5
          ],
          "target": [
           3,
           3,
           5,
           4,
           5,
           0,
           1,
           4,
           5,
           2,
           3,
           5,
           2,
           3,
           4
          ],
          "value": [
           80,
           78,
           2,
           20,
           105,
           96,
           71,
           18,
           162,
           19,
           18,
           115,
           102,
           128,
           119
          ]
         },
         "node": {
          "color": "blue",
          "label": [
           "Track Personal Best",
           "Track Workout",
           "Open Chat",
           "View Your Character",
           "View Team's Members",
           "View Team's Monster"
          ],
          "line": {
           "color": "blue",
           "width": 0.5
          },
          "pad": 15,
          "thickness": 20,
          "x": [
           0,
           1
          ],
          "y": [
           0,
           1
          ]
         },
         "type": "sankey"
        }
       ],
       "layout": {
        "font": {
         "size": 12
        },
        "template": {
         "data": {
          "bar": [
           {
            "error_x": {
             "color": "#2a3f5f"
            },
            "error_y": {
             "color": "#2a3f5f"
            },
            "marker": {
             "line": {
              "color": "#E5ECF6",
              "width": 0.5
             }
            },
            "type": "bar"
           }
          ],
          "barpolar": [
           {
            "marker": {
             "line": {
              "color": "#E5ECF6",
              "width": 0.5
             }
            },
            "type": "barpolar"
           }
          ],
          "carpet": [
           {
            "aaxis": {
             "endlinecolor": "#2a3f5f",
             "gridcolor": "white",
             "linecolor": "white",
             "minorgridcolor": "white",
             "startlinecolor": "#2a3f5f"
            },
            "baxis": {
             "endlinecolor": "#2a3f5f",
             "gridcolor": "white",
             "linecolor": "white",
             "minorgridcolor": "white",
             "startlinecolor": "#2a3f5f"
            },
            "type": "carpet"
           }
          ],
          "choropleth": [
           {
            "colorbar": {
             "outlinewidth": 0,
             "ticks": ""
            },
            "type": "choropleth"
           }
          ],
          "contour": [
           {
            "colorbar": {
             "outlinewidth": 0,
             "ticks": ""
            },
            "colorscale": [
             [
              0,
              "#0d0887"
             ],
             [
              0.1111111111111111,
              "#46039f"
             ],
             [
              0.2222222222222222,
              "#7201a8"
             ],
             [
              0.3333333333333333,
              "#9c179e"
             ],
             [
              0.4444444444444444,
              "#bd3786"
             ],
             [
              0.5555555555555556,
              "#d8576b"
             ],
             [
              0.6666666666666666,
              "#ed7953"
             ],
             [
              0.7777777777777778,
              "#fb9f3a"
             ],
             [
              0.8888888888888888,
              "#fdca26"
             ],
             [
              1,
              "#f0f921"
             ]
            ],
            "type": "contour"
           }
          ],
          "contourcarpet": [
           {
            "colorbar": {
             "outlinewidth": 0,
             "ticks": ""
            },
            "type": "contourcarpet"
           }
          ],
          "heatmap": [
           {
            "colorbar": {
             "outlinewidth": 0,
             "ticks": ""
            },
            "colorscale": [
             [
              0,
              "#0d0887"
             ],
             [
              0.1111111111111111,
              "#46039f"
             ],
             [
              0.2222222222222222,
              "#7201a8"
             ],
             [
              0.3333333333333333,
              "#9c179e"
             ],
             [
              0.4444444444444444,
              "#bd3786"
             ],
             [
              0.5555555555555556,
              "#d8576b"
             ],
             [
              0.6666666666666666,
              "#ed7953"
             ],
             [
              0.7777777777777778,
              "#fb9f3a"
             ],
             [
              0.8888888888888888,
              "#fdca26"
             ],
             [
              1,
              "#f0f921"
             ]
            ],
            "type": "heatmap"
           }
          ],
          "heatmapgl": [
           {
            "colorbar": {
             "outlinewidth": 0,
             "ticks": ""
            },
            "colorscale": [
             [
              0,
              "#0d0887"
             ],
             [
              0.1111111111111111,
              "#46039f"
             ],
             [
              0.2222222222222222,
              "#7201a8"
             ],
             [
              0.3333333333333333,
              "#9c179e"
             ],
             [
              0.4444444444444444,
              "#bd3786"
             ],
             [
              0.5555555555555556,
              "#d8576b"
             ],
             [
              0.6666666666666666,
              "#ed7953"
             ],
             [
              0.7777777777777778,
              "#fb9f3a"
             ],
             [
              0.8888888888888888,
              "#fdca26"
             ],
             [
              1,
              "#f0f921"
             ]
            ],
            "type": "heatmapgl"
           }
          ],
          "histogram": [
           {
            "marker": {
             "colorbar": {
              "outlinewidth": 0,
              "ticks": ""
             }
            },
            "type": "histogram"
           }
          ],
          "histogram2d": [
           {
            "colorbar": {
             "outlinewidth": 0,
             "ticks": ""
            },
            "colorscale": [
             [
              0,
              "#0d0887"
             ],
             [
              0.1111111111111111,
              "#46039f"
             ],
             [
              0.2222222222222222,
              "#7201a8"
             ],
             [
              0.3333333333333333,
              "#9c179e"
             ],
             [
              0.4444444444444444,
              "#bd3786"
             ],
             [
              0.5555555555555556,
              "#d8576b"
             ],
             [
              0.6666666666666666,
              "#ed7953"
             ],
             [
              0.7777777777777778,
              "#fb9f3a"
             ],
             [
              0.8888888888888888,
              "#fdca26"
             ],
             [
              1,
              "#f0f921"
             ]
            ],
            "type": "histogram2d"
           }
          ],
          "histogram2dcontour": [
           {
            "colorbar": {
             "outlinewidth": 0,
             "ticks": ""
            },
            "colorscale": [
             [
              0,
              "#0d0887"
             ],
             [
              0.1111111111111111,
              "#46039f"
             ],
             [
              0.2222222222222222,
              "#7201a8"
             ],
             [
              0.3333333333333333,
              "#9c179e"
             ],
             [
              0.4444444444444444,
              "#bd3786"
             ],
             [
              0.5555555555555556,
              "#d8576b"
             ],
             [
              0.6666666666666666,
              "#ed7953"
             ],
             [
              0.7777777777777778,
              "#fb9f3a"
             ],
             [
              0.8888888888888888,
              "#fdca26"
             ],
             [
              1,
              "#f0f921"
             ]
            ],
            "type": "histogram2dcontour"
           }
          ],
          "mesh3d": [
           {
            "colorbar": {
             "outlinewidth": 0,
             "ticks": ""
            },
            "type": "mesh3d"
           }
          ],
          "parcoords": [
           {
            "line": {
             "colorbar": {
              "outlinewidth": 0,
              "ticks": ""
             }
            },
            "type": "parcoords"
           }
          ],
          "pie": [
           {
            "automargin": true,
            "type": "pie"
           }
          ],
          "scatter": [
           {
            "marker": {
             "colorbar": {
              "outlinewidth": 0,
              "ticks": ""
             }
            },
            "type": "scatter"
           }
          ],
          "scatter3d": [
           {
            "line": {
             "colorbar": {
              "outlinewidth": 0,
              "ticks": ""
             }
            },
            "marker": {
             "colorbar": {
              "outlinewidth": 0,
              "ticks": ""
             }
            },
            "type": "scatter3d"
           }
          ],
          "scattercarpet": [
           {
            "marker": {
             "colorbar": {
              "outlinewidth": 0,
              "ticks": ""
             }
            },
            "type": "scattercarpet"
           }
          ],
          "scattergeo": [
           {
            "marker": {
             "colorbar": {
              "outlinewidth": 0,
              "ticks": ""
             }
            },
            "type": "scattergeo"
           }
          ],
          "scattergl": [
           {
            "marker": {
             "colorbar": {
              "outlinewidth": 0,
              "ticks": ""
             }
            },
            "type": "scattergl"
           }
          ],
          "scattermapbox": [
           {
            "marker": {
             "colorbar": {
              "outlinewidth": 0,
              "ticks": ""
             }
            },
            "type": "scattermapbox"
           }
          ],
          "scatterpolar": [
           {
            "marker": {
             "colorbar": {
              "outlinewidth": 0,
              "ticks": ""
             }
            },
            "type": "scatterpolar"
           }
          ],
          "scatterpolargl": [
           {
            "marker": {
             "colorbar": {
              "outlinewidth": 0,
              "ticks": ""
             }
            },
            "type": "scatterpolargl"
           }
          ],
          "scatterternary": [
           {
            "marker": {
             "colorbar": {
              "outlinewidth": 0,
              "ticks": ""
             }
            },
            "type": "scatterternary"
           }
          ],
          "surface": [
           {
            "colorbar": {
             "outlinewidth": 0,
             "ticks": ""
            },
            "colorscale": [
             [
              0,
              "#0d0887"
             ],
             [
              0.1111111111111111,
              "#46039f"
             ],
             [
              0.2222222222222222,
              "#7201a8"
             ],
             [
              0.3333333333333333,
              "#9c179e"
             ],
             [
              0.4444444444444444,
              "#bd3786"
             ],
             [
              0.5555555555555556,
              "#d8576b"
             ],
             [
              0.6666666666666666,
              "#ed7953"
             ],
             [
              0.7777777777777778,
              "#fb9f3a"
             ],
             [
              0.8888888888888888,
              "#fdca26"
             ],
             [
              1,
              "#f0f921"
             ]
            ],
            "type": "surface"
           }
          ],
          "table": [
           {
            "cells": {
             "fill": {
              "color": "#EBF0F8"
             },
             "line": {
              "color": "white"
             }
            },
            "header": {
             "fill": {
              "color": "#C8D4E3"
             },
             "line": {
              "color": "white"
             }
            },
            "type": "table"
           }
          ]
         },
         "layout": {
          "annotationdefaults": {
           "arrowcolor": "#2a3f5f",
           "arrowhead": 0,
           "arrowwidth": 1
          },
          "autotypenumbers": "strict",
          "coloraxis": {
           "colorbar": {
            "outlinewidth": 0,
            "ticks": ""
           }
          },
          "colorscale": {
           "diverging": [
            [
             0,
             "#8e0152"
            ],
            [
             0.1,
             "#c51b7d"
            ],
            [
             0.2,
             "#de77ae"
            ],
            [
             0.3,
             "#f1b6da"
            ],
            [
             0.4,
             "#fde0ef"
            ],
            [
             0.5,
             "#f7f7f7"
            ],
            [
             0.6,
             "#e6f5d0"
            ],
            [
             0.7,
             "#b8e186"
            ],
            [
             0.8,
             "#7fbc41"
            ],
            [
             0.9,
             "#4d9221"
            ],
            [
             1,
             "#276419"
            ]
           ],
           "sequential": [
            [
             0,
             "#0d0887"
            ],
            [
             0.1111111111111111,
             "#46039f"
            ],
            [
             0.2222222222222222,
             "#7201a8"
            ],
            [
             0.3333333333333333,
             "#9c179e"
            ],
            [
             0.4444444444444444,
             "#bd3786"
            ],
            [
             0.5555555555555556,
             "#d8576b"
            ],
            [
             0.6666666666666666,
             "#ed7953"
            ],
            [
             0.7777777777777778,
             "#fb9f3a"
            ],
            [
             0.8888888888888888,
             "#fdca26"
            ],
            [
             1,
             "#f0f921"
            ]
           ],
           "sequentialminus": [
            [
             0,
             "#0d0887"
            ],
            [
             0.1111111111111111,
             "#46039f"
            ],
            [
             0.2222222222222222,
             "#7201a8"
            ],
            [
             0.3333333333333333,
             "#9c179e"
            ],
            [
             0.4444444444444444,
             "#bd3786"
            ],
            [
             0.5555555555555556,
             "#d8576b"
            ],
            [
             0.6666666666666666,
             "#ed7953"
            ],
            [
             0.7777777777777778,
             "#fb9f3a"
            ],
            [
             0.8888888888888888,
             "#fdca26"
            ],
            [
             1,
             "#f0f921"
            ]
           ]
          },
          "colorway": [
           "#636efa",
           "#EF553B",
           "#00cc96",
           "#ab63fa",
           "#FFA15A",
           "#19d3f3",
           "#FF6692",
           "#B6E880",
           "#FF97FF",
           "#FECB52"
          ],
          "font": {
           "color": "#2a3f5f"
          },
          "geo": {
           "bgcolor": "white",
           "lakecolor": "white",
           "landcolor": "#E5ECF6",
           "showlakes": true,
           "showland": true,
           "subunitcolor": "white"
          },
          "hoverlabel": {
           "align": "left"
          },
          "hovermode": "closest",
          "mapbox": {
           "style": "light"
          },
          "paper_bgcolor": "white",
          "plot_bgcolor": "#E5ECF6",
          "polar": {
           "angularaxis": {
            "gridcolor": "white",
            "linecolor": "white",
            "ticks": ""
           },
           "bgcolor": "#E5ECF6",
           "radialaxis": {
            "gridcolor": "white",
            "linecolor": "white",
            "ticks": ""
           }
          },
          "scene": {
           "xaxis": {
            "backgroundcolor": "#E5ECF6",
            "gridcolor": "white",
            "gridwidth": 2,
            "linecolor": "white",
            "showbackground": true,
            "ticks": "",
            "zerolinecolor": "white"
           },
           "yaxis": {
            "backgroundcolor": "#E5ECF6",
            "gridcolor": "white",
            "gridwidth": 2,
            "linecolor": "white",
            "showbackground": true,
            "ticks": "",
            "zerolinecolor": "white"
           },
           "zaxis": {
            "backgroundcolor": "#E5ECF6",
            "gridcolor": "white",
            "gridwidth": 2,
            "linecolor": "white",
            "showbackground": true,
            "ticks": "",
            "zerolinecolor": "white"
           }
          },
          "shapedefaults": {
           "line": {
            "color": "#2a3f5f"
           }
          },
          "ternary": {
           "aaxis": {
            "gridcolor": "white",
            "linecolor": "white",
            "ticks": ""
           },
           "baxis": {
            "gridcolor": "white",
            "linecolor": "white",
            "ticks": ""
           },
           "bgcolor": "#E5ECF6",
           "caxis": {
            "gridcolor": "white",
            "linecolor": "white",
            "ticks": ""
           }
          },
          "title": {
           "x": 0.05
          },
          "xaxis": {
           "automargin": true,
           "gridcolor": "white",
           "linecolor": "white",
           "ticks": "",
           "title": {
            "standoff": 15
           },
           "zerolinecolor": "white",
           "zerolinewidth": 2
          },
          "yaxis": {
           "automargin": true,
           "gridcolor": "white",
           "linecolor": "white",
           "ticks": "",
           "title": {
            "standoff": 15
           },
           "zerolinecolor": "white",
           "zerolinewidth": 2
          }
         }
        },
        "title": {
         "text": ""
        }
       }
      },
      "text/html": [
       "<div>                            <div id=\"c34d9ea7-ebb2-4fce-93f6-2bc434dba467\" class=\"plotly-graph-div\" style=\"height:525px; width:100%;\"></div>            <script type=\"text/javascript\">                require([\"plotly\"], function(Plotly) {                    window.PLOTLYENV=window.PLOTLYENV || {};                                    if (document.getElementById(\"c34d9ea7-ebb2-4fce-93f6-2bc434dba467\")) {                    Plotly.newPlot(                        \"c34d9ea7-ebb2-4fce-93f6-2bc434dba467\",                        [{\"link\": {\"color\": [\"orange\", \"green\", \"green\", \"red\", \"red\", \"purple\", \"purple\", \"purple\", \"purple\", \"brown\", \"brown\", \"brown\", \"gray\", \"gray\", \"gray\"], \"source\": [0, 1, 1, 2, 2, 3, 3, 3, 3, 4, 4, 4, 5, 5, 5], \"target\": [3, 3, 5, 4, 5, 0, 1, 4, 5, 2, 3, 5, 2, 3, 4], \"value\": [80, 78, 2, 20, 105, 96, 71, 18, 162, 19, 18, 115, 102, 128, 119]}, \"node\": {\"color\": \"blue\", \"label\": [\"Track Personal Best\", \"Track Workout\", \"Open Chat\", \"View Your Character\", \"View Team's Members\", \"View Team's Monster\"], \"line\": {\"color\": \"blue\", \"width\": 0.5}, \"pad\": 15, \"thickness\": 20, \"x\": [0, 1], \"y\": [0, 1]}, \"type\": \"sankey\"}],                        {\"font\": {\"size\": 12}, \"template\": {\"data\": {\"bar\": [{\"error_x\": {\"color\": \"#2a3f5f\"}, \"error_y\": {\"color\": \"#2a3f5f\"}, \"marker\": {\"line\": {\"color\": \"#E5ECF6\", \"width\": 0.5}}, \"type\": \"bar\"}], \"barpolar\": [{\"marker\": {\"line\": {\"color\": \"#E5ECF6\", \"width\": 0.5}}, \"type\": \"barpolar\"}], \"carpet\": [{\"aaxis\": {\"endlinecolor\": \"#2a3f5f\", \"gridcolor\": \"white\", \"linecolor\": \"white\", \"minorgridcolor\": \"white\", \"startlinecolor\": \"#2a3f5f\"}, \"baxis\": {\"endlinecolor\": \"#2a3f5f\", \"gridcolor\": \"white\", \"linecolor\": \"white\", \"minorgridcolor\": \"white\", \"startlinecolor\": \"#2a3f5f\"}, \"type\": \"carpet\"}], \"choropleth\": [{\"colorbar\": {\"outlinewidth\": 0, \"ticks\": \"\"}, \"type\": \"choropleth\"}], \"contour\": [{\"colorbar\": {\"outlinewidth\": 0, \"ticks\": \"\"}, \"colorscale\": [[0.0, \"#0d0887\"], [0.1111111111111111, \"#46039f\"], [0.2222222222222222, \"#7201a8\"], [0.3333333333333333, \"#9c179e\"], [0.4444444444444444, \"#bd3786\"], [0.5555555555555556, \"#d8576b\"], [0.6666666666666666, \"#ed7953\"], [0.7777777777777778, \"#fb9f3a\"], [0.8888888888888888, \"#fdca26\"], [1.0, \"#f0f921\"]], \"type\": \"contour\"}], \"contourcarpet\": [{\"colorbar\": {\"outlinewidth\": 0, \"ticks\": \"\"}, \"type\": \"contourcarpet\"}], \"heatmap\": [{\"colorbar\": {\"outlinewidth\": 0, \"ticks\": \"\"}, \"colorscale\": [[0.0, \"#0d0887\"], [0.1111111111111111, \"#46039f\"], [0.2222222222222222, \"#7201a8\"], [0.3333333333333333, \"#9c179e\"], [0.4444444444444444, \"#bd3786\"], [0.5555555555555556, \"#d8576b\"], [0.6666666666666666, \"#ed7953\"], [0.7777777777777778, \"#fb9f3a\"], [0.8888888888888888, \"#fdca26\"], [1.0, \"#f0f921\"]], \"type\": \"heatmap\"}], \"heatmapgl\": [{\"colorbar\": {\"outlinewidth\": 0, \"ticks\": \"\"}, \"colorscale\": [[0.0, \"#0d0887\"], [0.1111111111111111, \"#46039f\"], [0.2222222222222222, \"#7201a8\"], [0.3333333333333333, \"#9c179e\"], [0.4444444444444444, \"#bd3786\"], [0.5555555555555556, \"#d8576b\"], [0.6666666666666666, \"#ed7953\"], [0.7777777777777778, \"#fb9f3a\"], [0.8888888888888888, \"#fdca26\"], [1.0, \"#f0f921\"]], \"type\": \"heatmapgl\"}], \"histogram\": [{\"marker\": {\"colorbar\": {\"outlinewidth\": 0, \"ticks\": \"\"}}, \"type\": \"histogram\"}], \"histogram2d\": [{\"colorbar\": {\"outlinewidth\": 0, \"ticks\": \"\"}, \"colorscale\": [[0.0, \"#0d0887\"], [0.1111111111111111, \"#46039f\"], [0.2222222222222222, \"#7201a8\"], [0.3333333333333333, \"#9c179e\"], [0.4444444444444444, \"#bd3786\"], [0.5555555555555556, \"#d8576b\"], [0.6666666666666666, \"#ed7953\"], [0.7777777777777778, \"#fb9f3a\"], [0.8888888888888888, \"#fdca26\"], [1.0, \"#f0f921\"]], \"type\": \"histogram2d\"}], \"histogram2dcontour\": [{\"colorbar\": {\"outlinewidth\": 0, \"ticks\": \"\"}, \"colorscale\": [[0.0, \"#0d0887\"], [0.1111111111111111, \"#46039f\"], [0.2222222222222222, \"#7201a8\"], [0.3333333333333333, \"#9c179e\"], [0.4444444444444444, \"#bd3786\"], [0.5555555555555556, \"#d8576b\"], [0.6666666666666666, \"#ed7953\"], [0.7777777777777778, \"#fb9f3a\"], [0.8888888888888888, \"#fdca26\"], [1.0, \"#f0f921\"]], \"type\": \"histogram2dcontour\"}], \"mesh3d\": [{\"colorbar\": {\"outlinewidth\": 0, \"ticks\": \"\"}, \"type\": \"mesh3d\"}], \"parcoords\": [{\"line\": {\"colorbar\": {\"outlinewidth\": 0, \"ticks\": \"\"}}, \"type\": \"parcoords\"}], \"pie\": [{\"automargin\": true, \"type\": \"pie\"}], \"scatter\": [{\"marker\": {\"colorbar\": {\"outlinewidth\": 0, \"ticks\": \"\"}}, \"type\": \"scatter\"}], \"scatter3d\": [{\"line\": {\"colorbar\": {\"outlinewidth\": 0, \"ticks\": \"\"}}, \"marker\": {\"colorbar\": {\"outlinewidth\": 0, \"ticks\": \"\"}}, \"type\": \"scatter3d\"}], \"scattercarpet\": [{\"marker\": {\"colorbar\": {\"outlinewidth\": 0, \"ticks\": \"\"}}, \"type\": \"scattercarpet\"}], \"scattergeo\": [{\"marker\": {\"colorbar\": {\"outlinewidth\": 0, \"ticks\": \"\"}}, \"type\": \"scattergeo\"}], \"scattergl\": [{\"marker\": {\"colorbar\": {\"outlinewidth\": 0, \"ticks\": \"\"}}, \"type\": \"scattergl\"}], \"scattermapbox\": [{\"marker\": {\"colorbar\": {\"outlinewidth\": 0, \"ticks\": \"\"}}, \"type\": \"scattermapbox\"}], \"scatterpolar\": [{\"marker\": {\"colorbar\": {\"outlinewidth\": 0, \"ticks\": \"\"}}, \"type\": \"scatterpolar\"}], \"scatterpolargl\": [{\"marker\": {\"colorbar\": {\"outlinewidth\": 0, \"ticks\": \"\"}}, \"type\": \"scatterpolargl\"}], \"scatterternary\": [{\"marker\": {\"colorbar\": {\"outlinewidth\": 0, \"ticks\": \"\"}}, \"type\": \"scatterternary\"}], \"surface\": [{\"colorbar\": {\"outlinewidth\": 0, \"ticks\": \"\"}, \"colorscale\": [[0.0, \"#0d0887\"], [0.1111111111111111, \"#46039f\"], [0.2222222222222222, \"#7201a8\"], [0.3333333333333333, \"#9c179e\"], [0.4444444444444444, \"#bd3786\"], [0.5555555555555556, \"#d8576b\"], [0.6666666666666666, \"#ed7953\"], [0.7777777777777778, \"#fb9f3a\"], [0.8888888888888888, \"#fdca26\"], [1.0, \"#f0f921\"]], \"type\": \"surface\"}], \"table\": [{\"cells\": {\"fill\": {\"color\": \"#EBF0F8\"}, \"line\": {\"color\": \"white\"}}, \"header\": {\"fill\": {\"color\": \"#C8D4E3\"}, \"line\": {\"color\": \"white\"}}, \"type\": \"table\"}]}, \"layout\": {\"annotationdefaults\": {\"arrowcolor\": \"#2a3f5f\", \"arrowhead\": 0, \"arrowwidth\": 1}, \"autotypenumbers\": \"strict\", \"coloraxis\": {\"colorbar\": {\"outlinewidth\": 0, \"ticks\": \"\"}}, \"colorscale\": {\"diverging\": [[0, \"#8e0152\"], [0.1, \"#c51b7d\"], [0.2, \"#de77ae\"], [0.3, \"#f1b6da\"], [0.4, \"#fde0ef\"], [0.5, \"#f7f7f7\"], [0.6, \"#e6f5d0\"], [0.7, \"#b8e186\"], [0.8, \"#7fbc41\"], [0.9, \"#4d9221\"], [1, \"#276419\"]], \"sequential\": [[0.0, \"#0d0887\"], [0.1111111111111111, \"#46039f\"], [0.2222222222222222, \"#7201a8\"], [0.3333333333333333, \"#9c179e\"], [0.4444444444444444, \"#bd3786\"], [0.5555555555555556, \"#d8576b\"], [0.6666666666666666, \"#ed7953\"], [0.7777777777777778, \"#fb9f3a\"], [0.8888888888888888, \"#fdca26\"], [1.0, \"#f0f921\"]], \"sequentialminus\": [[0.0, \"#0d0887\"], [0.1111111111111111, \"#46039f\"], [0.2222222222222222, \"#7201a8\"], [0.3333333333333333, \"#9c179e\"], [0.4444444444444444, \"#bd3786\"], [0.5555555555555556, \"#d8576b\"], [0.6666666666666666, \"#ed7953\"], [0.7777777777777778, \"#fb9f3a\"], [0.8888888888888888, \"#fdca26\"], [1.0, \"#f0f921\"]]}, \"colorway\": [\"#636efa\", \"#EF553B\", \"#00cc96\", \"#ab63fa\", \"#FFA15A\", \"#19d3f3\", \"#FF6692\", \"#B6E880\", \"#FF97FF\", \"#FECB52\"], \"font\": {\"color\": \"#2a3f5f\"}, \"geo\": {\"bgcolor\": \"white\", \"lakecolor\": \"white\", \"landcolor\": \"#E5ECF6\", \"showlakes\": true, \"showland\": true, \"subunitcolor\": \"white\"}, \"hoverlabel\": {\"align\": \"left\"}, \"hovermode\": \"closest\", \"mapbox\": {\"style\": \"light\"}, \"paper_bgcolor\": \"white\", \"plot_bgcolor\": \"#E5ECF6\", \"polar\": {\"angularaxis\": {\"gridcolor\": \"white\", \"linecolor\": \"white\", \"ticks\": \"\"}, \"bgcolor\": \"#E5ECF6\", \"radialaxis\": {\"gridcolor\": \"white\", \"linecolor\": \"white\", \"ticks\": \"\"}}, \"scene\": {\"xaxis\": {\"backgroundcolor\": \"#E5ECF6\", \"gridcolor\": \"white\", \"gridwidth\": 2, \"linecolor\": \"white\", \"showbackground\": true, \"ticks\": \"\", \"zerolinecolor\": \"white\"}, \"yaxis\": {\"backgroundcolor\": \"#E5ECF6\", \"gridcolor\": \"white\", \"gridwidth\": 2, \"linecolor\": \"white\", \"showbackground\": true, \"ticks\": \"\", \"zerolinecolor\": \"white\"}, \"zaxis\": {\"backgroundcolor\": \"#E5ECF6\", \"gridcolor\": \"white\", \"gridwidth\": 2, \"linecolor\": \"white\", \"showbackground\": true, \"ticks\": \"\", \"zerolinecolor\": \"white\"}}, \"shapedefaults\": {\"line\": {\"color\": \"#2a3f5f\"}}, \"ternary\": {\"aaxis\": {\"gridcolor\": \"white\", \"linecolor\": \"white\", \"ticks\": \"\"}, \"baxis\": {\"gridcolor\": \"white\", \"linecolor\": \"white\", \"ticks\": \"\"}, \"bgcolor\": \"#E5ECF6\", \"caxis\": {\"gridcolor\": \"white\", \"linecolor\": \"white\", \"ticks\": \"\"}}, \"title\": {\"x\": 0.05}, \"xaxis\": {\"automargin\": true, \"gridcolor\": \"white\", \"linecolor\": \"white\", \"ticks\": \"\", \"title\": {\"standoff\": 15}, \"zerolinecolor\": \"white\", \"zerolinewidth\": 2}, \"yaxis\": {\"automargin\": true, \"gridcolor\": \"white\", \"linecolor\": \"white\", \"ticks\": \"\", \"title\": {\"standoff\": 15}, \"zerolinecolor\": \"white\", \"zerolinewidth\": 2}}}, \"title\": {\"text\": \"\"}},                        {\"responsive\": true}                    ).then(function(){\n",
       "                            \n",
       "var gd = document.getElementById('c34d9ea7-ebb2-4fce-93f6-2bc434dba467');\n",
       "var x = new MutationObserver(function (mutations, observer) {{\n",
       "        var display = window.getComputedStyle(gd).display;\n",
       "        if (!display || display === 'none') {{\n",
       "            console.log([gd, 'removed!']);\n",
       "            Plotly.purge(gd);\n",
       "            observer.disconnect();\n",
       "        }}\n",
       "}});\n",
       "\n",
       "// Listen for the removal of the full notebook cells\n",
       "var notebookContainer = gd.closest('#notebook-container');\n",
       "if (notebookContainer) {{\n",
       "    x.observe(notebookContainer, {childList: true});\n",
       "}}\n",
       "\n",
       "// Listen for the clearing of the current output cell\n",
       "var outputEl = gd.closest('.output');\n",
       "if (outputEl) {{\n",
       "    x.observe(outputEl, {childList: true});\n",
       "}}\n",
       "\n",
       "                        })                };                });            </script>        </div>"
      ]
     },
     "metadata": {},
     "output_type": "display_data"
    }
   ],
   "source": [
    "import plotly.graph_objects as go\n",
    "\n",
    "fig = go.Figure(data=[go.Sankey(\n",
    "    node = dict(\n",
    "      pad = 15,\n",
    "      thickness = 20,\n",
    "      line = dict(color = \"blue\", width = 0.5),\n",
    "      label = [\"Track Personal Best\", \"Track Workout\", \"Open Chat\", \"View Your Character\", \"View Team's Members\", \"View Team's Monster\"],\n",
    "      color = \"blue\",\n",
    "      x = [0, 1],\n",
    "      y = [0, 1]\n",
    "    ),\n",
    "    link = dict(\n",
    "      source = source,\n",
    "      target = target,\n",
    "      value = value,\n",
    "      color = color\n",
    "  ))])\n",
    "\n",
    "fig.update_layout(title_text=\"\", font_size=12)\n",
    "fig.show()"
   ]
  },
  {
   "cell_type": "code",
   "execution_count": 309,
   "id": "absolute-polyester",
   "metadata": {},
   "outputs": [],
   "source": [
    "import math\n",
    "user_with_counts = user_df\n",
    "counts = user_with_counts.groupby('groupname').count().reset_index().rename(columns = {\"created_at\": \"Number of members\"})[['groupname', 'Number of members']]\n",
    "user_with_counts = user_with_counts.merge(counts, on = \"groupname\", how = \"left\")\n",
    "user_with_counts['Number of members'] = user_with_counts['Number of members'].apply(lambda x:  0 if math.isnan(x) else x)\n",
    "\n",
    "counts = workout_df.groupby('username').count().reset_index().rename(columns = {\"created_at\": \"Tracked workouts\"})[['username', 'Tracked workouts']]\n",
    "user_with_counts = user_with_counts.merge(counts, on = \"username\", how = \"left\")\n",
    "user_with_counts['Tracked workouts'] = user_with_counts['Tracked workouts'].apply(lambda x:  0 if math.isnan(x) else x)\n",
    "\n",
    "counts = user_exercise_df.groupby('username').count().reset_index().rename(columns = {\"created_at\": \"Tracked personal bests\"})[['username', 'Tracked personal bests']]\n",
    "user_with_counts = user_with_counts.merge(counts, on = \"username\", how = \"left\")\n",
    "user_with_counts['Tracked personal bests'] = user_with_counts['Tracked personal bests'].apply(lambda x:  0 if math.isnan(x) else x)\n",
    "\n",
    "counts = chat_df.groupby('username').count().reset_index().rename(columns = {\"created_at\": \"Chat messages\"})[['username', 'Chat messages']]\n",
    "user_with_counts = user_with_counts.merge(counts, on = \"username\", how = \"left\")\n",
    "user_with_counts['Chat messages'] = user_with_counts['Chat messages'].apply(lambda x:  0 if math.isnan(x) else x)\n",
    "\n",
    "counts = session_analytics_df.groupby('username').count().reset_index().rename(columns = {\"created_at\": \"Number of app opens\"})[['username', 'Number of app opens']]\n",
    "user_with_counts = user_with_counts.merge(counts, on = \"username\", how = \"left\")\n",
    "user_with_counts['Number of app opens'] = user_with_counts['Number of app opens'].apply(lambda x:  0 if math.isnan(x) else x)\n",
    "\n",
    "\n",
    "\n",
    "\n"
   ]
  },
  {
   "cell_type": "code",
   "execution_count": 316,
   "id": "smaller-contest",
   "metadata": {},
   "outputs": [
    {
     "data": {
      "text/plain": [
       "<matplotlib.axes._subplots.AxesSubplot at 0x7fb458a87d00>"
      ]
     },
     "execution_count": 316,
     "metadata": {},
     "output_type": "execute_result"
    },
    {
     "data": {
      "image/png": "[encoded data removed]",
      "text/plain": [
       "<Figure size 432x288 with 1 Axes>"
      ]
     },
     "metadata": {
      "needs_background": "light"
     },
     "output_type": "display_data"
    }
   ],
   "source": [
    "import matplotlib as plt\n",
    "to_plot = user_with_counts.groupby('Number of members').mean()\n",
    "#to_plot.drop(columns = ['Number of app opens']).plot()\n",
    "to_plot.plot()"
   ]
  },
  {
   "cell_type": "code",
   "execution_count": 346,
   "id": "powered-horror",
   "metadata": {},
   "outputs": [
    {
     "ename": "NameError",
     "evalue": "name 'clear' is not defined",
     "output_type": "error",
     "traceback": [
      "\u001b[0;31m---------------------------------------------------------------------------\u001b[0m",
      "\u001b[0;31mNameError\u001b[0m                                 Traceback (most recent call last)",
      "\u001b[0;32m<ipython-input-346-5f0faa773b99>\u001b[0m in \u001b[0;36m<module>\u001b[0;34m\u001b[0m\n\u001b[1;32m      2\u001b[0m \u001b[0;31m#battle_workout_merge.rename(columns = {\"created_at\": \"battle_created_at\"})\u001b[0m\u001b[0;34m\u001b[0m\u001b[0;34m\u001b[0m\u001b[0;34m\u001b[0m\u001b[0m\n\u001b[1;32m      3\u001b[0m \u001b[0;34m\u001b[0m\u001b[0m\n\u001b[0;32m----> 4\u001b[0;31m \u001b[0mclear\u001b[0m\u001b[0;34m\u001b[0m\u001b[0;34m\u001b[0m\u001b[0m\n\u001b[0m",
      "\u001b[0;31mNameError\u001b[0m: name 'clear' is not defined"
     ]
    }
   ],
   "source": [
    "\n",
    "#battle_workout_merge = workout_df.rename(columns = {\"created_at\": \"workout_created_at\"}).merge(battle_df, on = [\"groupname\", 'battle_number'])\n",
    "#battle_workout_merge.rename(columns = {\"created_at\": \"battle_created_at\"})\n",
    "\n",
    "\n",
    "\n",
    "\n"
   ]
  },
  {
   "cell_type": "code",
   "execution_count": 370,
   "id": "permanent-convention",
   "metadata": {},
   "outputs": [
    {
     "name": "stderr",
     "output_type": "stream",
     "text": [
      "<ipython-input-370-9867e462a96c>:3: UserWarning:\n",
      "\n",
      "Boolean Series key will be reindexed to match DataFrame index.\n",
      "\n",
      "<ipython-input-370-9867e462a96c>:3: UserWarning:\n",
      "\n",
      "Boolean Series key will be reindexed to match DataFrame index.\n",
      "\n",
      "<ipython-input-370-9867e462a96c>:3: UserWarning:\n",
      "\n",
      "Boolean Series key will be reindexed to match DataFrame index.\n",
      "\n",
      "<ipython-input-370-9867e462a96c>:3: UserWarning:\n",
      "\n",
      "Boolean Series key will be reindexed to match DataFrame index.\n",
      "\n",
      "<ipython-input-370-9867e462a96c>:3: UserWarning:\n",
      "\n",
      "Boolean Series key will be reindexed to match DataFrame index.\n",
      "\n",
      "<ipython-input-370-9867e462a96c>:3: UserWarning:\n",
      "\n",
      "Boolean Series key will be reindexed to match DataFrame index.\n",
      "\n",
      "<ipython-input-370-9867e462a96c>:3: UserWarning:\n",
      "\n",
      "Boolean Series key will be reindexed to match DataFrame index.\n",
      "\n",
      "<ipython-input-370-9867e462a96c>:3: UserWarning:\n",
      "\n",
      "Boolean Series key will be reindexed to match DataFrame index.\n",
      "\n",
      "<ipython-input-370-9867e462a96c>:3: UserWarning:\n",
      "\n",
      "Boolean Series key will be reindexed to match DataFrame index.\n",
      "\n",
      "<ipython-input-370-9867e462a96c>:3: UserWarning:\n",
      "\n",
      "Boolean Series key will be reindexed to match DataFrame index.\n",
      "\n",
      "<ipython-input-370-9867e462a96c>:3: UserWarning:\n",
      "\n",
      "Boolean Series key will be reindexed to match DataFrame index.\n",
      "\n",
      "<ipython-input-370-9867e462a96c>:3: UserWarning:\n",
      "\n",
      "Boolean Series key will be reindexed to match DataFrame index.\n",
      "\n",
      "<ipython-input-370-9867e462a96c>:3: UserWarning:\n",
      "\n",
      "Boolean Series key will be reindexed to match DataFrame index.\n",
      "\n",
      "<ipython-input-370-9867e462a96c>:3: UserWarning:\n",
      "\n",
      "Boolean Series key will be reindexed to match DataFrame index.\n",
      "\n"
     ]
    },
    {
     "data": {
      "text/html": [
       "<div>\n",
       "<style scoped>\n",
       "    .dataframe tbody tr th:only-of-type {\n",
       "        vertical-align: middle;\n",
       "    }\n",
       "\n",
       "    .dataframe tbody tr th {\n",
       "        vertical-align: top;\n",
       "    }\n",
       "\n",
       "    .dataframe thead th {\n",
       "        text-align: right;\n",
       "    }\n",
       "</style>\n",
       "<table border=\"1\" class=\"dataframe\">\n",
       "  <thead>\n",
       "    <tr style=\"text-align: right;\">\n",
       "      <th></th>\n",
       "      <th>battle_number</th>\n",
       "      <th>created_at</th>\n",
       "      <th>current_health</th>\n",
       "      <th>ended_at</th>\n",
       "      <th>enemy_level</th>\n",
       "      <th>groupname</th>\n",
       "      <th>max_health</th>\n",
       "      <th>updated_at</th>\n",
       "    </tr>\n",
       "  </thead>\n",
       "  <tbody>\n",
       "    <tr>\n",
       "      <th>0</th>\n",
       "      <td>1</td>\n",
       "      <td>2021-02-21 11:43:48.864087+00:00</td>\n",
       "      <td>-2.193333</td>\n",
       "      <td>2021-02-24 19:30:18.162930+00:00</td>\n",
       "      <td>1</td>\n",
       "      <td>Team Jokr</td>\n",
       "      <td>20.0</td>\n",
       "      <td>2021-02-24 19:30:18.162930+00:00</td>\n",
       "    </tr>\n",
       "    <tr>\n",
       "      <th>1</th>\n",
       "      <td>5</td>\n",
       "      <td>2021-02-24 01:11:05.233365+00:00</td>\n",
       "      <td>14.470000</td>\n",
       "      <td>NaT</td>\n",
       "      <td>5</td>\n",
       "      <td>Soy</td>\n",
       "      <td>48.0</td>\n",
       "      <td>2021-02-25 16:02:09.852473+00:00</td>\n",
       "    </tr>\n",
       "    <tr>\n",
       "      <th>2</th>\n",
       "      <td>3</td>\n",
       "      <td>2021-02-21 17:50:26.969291+00:00</td>\n",
       "      <td>-7.060000</td>\n",
       "      <td>2021-02-26 13:09:56.200762+00:00</td>\n",
       "      <td>3</td>\n",
       "      <td>Punet</td>\n",
       "      <td>60.0</td>\n",
       "      <td>2021-02-26 13:09:56.200762+00:00</td>\n",
       "    </tr>\n",
       "    <tr>\n",
       "      <th>3</th>\n",
       "      <td>4</td>\n",
       "      <td>2021-02-26 13:09:56.200762+00:00</td>\n",
       "      <td>51.150000</td>\n",
       "      <td>NaT</td>\n",
       "      <td>4</td>\n",
       "      <td>Punet</td>\n",
       "      <td>70.0</td>\n",
       "      <td>2021-02-26 18:33:08.689523+00:00</td>\n",
       "    </tr>\n",
       "    <tr>\n",
       "      <th>4</th>\n",
       "      <td>2</td>\n",
       "      <td>2021-02-24 19:30:18.162930+00:00</td>\n",
       "      <td>0.400000</td>\n",
       "      <td>2021-02-26 21:14:52.155480+00:00</td>\n",
       "      <td>2</td>\n",
       "      <td>Team Jokr</td>\n",
       "      <td>20.0</td>\n",
       "      <td>2021-02-26 21:14:52.155480+00:00</td>\n",
       "    </tr>\n",
       "    <tr>\n",
       "      <th>5</th>\n",
       "      <td>3</td>\n",
       "      <td>2021-02-26 21:14:52.155480+00:00</td>\n",
       "      <td>24.000000</td>\n",
       "      <td>NaT</td>\n",
       "      <td>3</td>\n",
       "      <td>Team Jokr</td>\n",
       "      <td>24.0</td>\n",
       "      <td>2021-02-26 21:14:52.155480+00:00</td>\n",
       "    </tr>\n",
       "    <tr>\n",
       "      <th>6</th>\n",
       "      <td>1</td>\n",
       "      <td>2021-02-21 16:08:07.316906+00:00</td>\n",
       "      <td>20.000000</td>\n",
       "      <td>NaT</td>\n",
       "      <td>1</td>\n",
       "      <td>Roistot</td>\n",
       "      <td>20.0</td>\n",
       "      <td>2021-02-21 16:08:07.316906+00:00</td>\n",
       "    </tr>\n",
       "    <tr>\n",
       "      <th>7</th>\n",
       "      <td>1</td>\n",
       "      <td>2021-02-21 17:39:49.822013+00:00</td>\n",
       "      <td>-0.650000</td>\n",
       "      <td>2021-02-21 17:42:17.982947+00:00</td>\n",
       "      <td>1</td>\n",
       "      <td>Punet</td>\n",
       "      <td>20.0</td>\n",
       "      <td>2021-02-21 17:42:17.982947+00:00</td>\n",
       "    </tr>\n",
       "    <tr>\n",
       "      <th>8</th>\n",
       "      <td>2</td>\n",
       "      <td>2021-02-21 17:42:17.982947+00:00</td>\n",
       "      <td>-8.560000</td>\n",
       "      <td>2021-02-21 17:50:26.969291+00:00</td>\n",
       "      <td>2</td>\n",
       "      <td>Punet</td>\n",
       "      <td>20.0</td>\n",
       "      <td>2021-02-21 17:50:26.969291+00:00</td>\n",
       "    </tr>\n",
       "    <tr>\n",
       "      <th>9</th>\n",
       "      <td>1</td>\n",
       "      <td>2021-02-22 11:09:29.318665+00:00</td>\n",
       "      <td>12.150000</td>\n",
       "      <td>NaT</td>\n",
       "      <td>1</td>\n",
       "      <td>Calisthenics</td>\n",
       "      <td>20.0</td>\n",
       "      <td>2021-02-22 18:37:17.045033+00:00</td>\n",
       "    </tr>\n",
       "    <tr>\n",
       "      <th>10</th>\n",
       "      <td>1</td>\n",
       "      <td>2021-02-22 12:30:08.209963+00:00</td>\n",
       "      <td>-16.620000</td>\n",
       "      <td>2021-02-22 23:02:50.453911+00:00</td>\n",
       "      <td>1</td>\n",
       "      <td>Soy</td>\n",
       "      <td>30.0</td>\n",
       "      <td>2021-02-22 23:02:50.453911+00:00</td>\n",
       "    </tr>\n",
       "    <tr>\n",
       "      <th>11</th>\n",
       "      <td>2</td>\n",
       "      <td>2021-02-22 23:02:50.453911+00:00</td>\n",
       "      <td>-29.400000</td>\n",
       "      <td>2021-02-23 00:49:25.113338+00:00</td>\n",
       "      <td>2</td>\n",
       "      <td>Soy</td>\n",
       "      <td>30.0</td>\n",
       "      <td>2021-02-23 00:49:25.113338+00:00</td>\n",
       "    </tr>\n",
       "    <tr>\n",
       "      <th>12</th>\n",
       "      <td>3</td>\n",
       "      <td>2021-02-23 00:49:25.113338+00:00</td>\n",
       "      <td>-10.620000</td>\n",
       "      <td>2021-02-23 17:32:25.900470+00:00</td>\n",
       "      <td>3</td>\n",
       "      <td>Soy</td>\n",
       "      <td>36.0</td>\n",
       "      <td>2021-02-23 17:32:25.900470+00:00</td>\n",
       "    </tr>\n",
       "    <tr>\n",
       "      <th>13</th>\n",
       "      <td>4</td>\n",
       "      <td>2021-02-23 17:32:25.900470+00:00</td>\n",
       "      <td>-2.550000</td>\n",
       "      <td>2021-02-24 01:11:05.233365+00:00</td>\n",
       "      <td>4</td>\n",
       "      <td>Soy</td>\n",
       "      <td>42.0</td>\n",
       "      <td>2021-02-24 01:11:05.233365+00:00</td>\n",
       "    </tr>\n",
       "  </tbody>\n",
       "</table>\n",
       "</div>"
      ],
      "text/plain": [
       "    battle_number                       created_at  current_health  \\\n",
       "0               1 2021-02-21 11:43:48.864087+00:00       -2.193333   \n",
       "1               5 2021-02-24 01:11:05.233365+00:00       14.470000   \n",
       "2               3 2021-02-21 17:50:26.969291+00:00       -7.060000   \n",
       "3               4 2021-02-26 13:09:56.200762+00:00       51.150000   \n",
       "4               2 2021-02-24 19:30:18.162930+00:00        0.400000   \n",
       "5               3 2021-02-26 21:14:52.155480+00:00       24.000000   \n",
       "6               1 2021-02-21 16:08:07.316906+00:00       20.000000   \n",
       "7               1 2021-02-21 17:39:49.822013+00:00       -0.650000   \n",
       "8               2 2021-02-21 17:42:17.982947+00:00       -8.560000   \n",
       "9               1 2021-02-22 11:09:29.318665+00:00       12.150000   \n",
       "10              1 2021-02-22 12:30:08.209963+00:00      -16.620000   \n",
       "11              2 2021-02-22 23:02:50.453911+00:00      -29.400000   \n",
       "12              3 2021-02-23 00:49:25.113338+00:00      -10.620000   \n",
       "13              4 2021-02-23 17:32:25.900470+00:00       -2.550000   \n",
       "\n",
       "                           ended_at  enemy_level     groupname  max_health  \\\n",
       "0  2021-02-24 19:30:18.162930+00:00            1     Team Jokr        20.0   \n",
       "1                               NaT            5           Soy        48.0   \n",
       "2  2021-02-26 13:09:56.200762+00:00            3         Punet        60.0   \n",
       "3                               NaT            4         Punet        70.0   \n",
       "4  2021-02-26 21:14:52.155480+00:00            2     Team Jokr        20.0   \n",
       "5                               NaT            3     Team Jokr        24.0   \n",
       "6                               NaT            1       Roistot        20.0   \n",
       "7  2021-02-21 17:42:17.982947+00:00            1         Punet        20.0   \n",
       "8  2021-02-21 17:50:26.969291+00:00            2         Punet        20.0   \n",
       "9                               NaT            1  Calisthenics        20.0   \n",
       "10 2021-02-22 23:02:50.453911+00:00            1           Soy        30.0   \n",
       "11 2021-02-23 00:49:25.113338+00:00            2           Soy        30.0   \n",
       "12 2021-02-23 17:32:25.900470+00:00            3           Soy        36.0   \n",
       "13 2021-02-24 01:11:05.233365+00:00            4           Soy        42.0   \n",
       "\n",
       "                         updated_at  \n",
       "0  2021-02-24 19:30:18.162930+00:00  \n",
       "1  2021-02-25 16:02:09.852473+00:00  \n",
       "2  2021-02-26 13:09:56.200762+00:00  \n",
       "3  2021-02-26 18:33:08.689523+00:00  \n",
       "4  2021-02-26 21:14:52.155480+00:00  \n",
       "5  2021-02-26 21:14:52.155480+00:00  \n",
       "6  2021-02-21 16:08:07.316906+00:00  \n",
       "7  2021-02-21 17:42:17.982947+00:00  \n",
       "8  2021-02-21 17:50:26.969291+00:00  \n",
       "9  2021-02-22 18:37:17.045033+00:00  \n",
       "10 2021-02-22 23:02:50.453911+00:00  \n",
       "11 2021-02-23 00:49:25.113338+00:00  \n",
       "12 2021-02-23 17:32:25.900470+00:00  \n",
       "13 2021-02-24 01:11:05.233365+00:00  "
      ]
     },
     "execution_count": 370,
     "metadata": {},
     "output_type": "execute_result"
    }
   ],
   "source": [
    "def get_end_date(row):\n",
    "    next_battle = battle_df[battle_df['groupname'] == row['groupname']]\n",
    "    next_battle = next_battle[battle_df['battle_number'] == row['battle_number'] + 1]\n",
    "    if len(next_battle):\n",
    "        row['ended_at'] = next_battle.iloc[0]['created_at']\n",
    "    return row\n",
    "battle_df.apply(get_end_date, axis = 1)"
   ]
  }
 ],
 "metadata": {
  "kernelspec": {
   "display_name": "Python 3",
   "language": "python",
   "name": "python3"
  },
  "language_info": {
   "codemirror_mode": {
    "name": "ipython",
    "version": 3
   },
   "file_extension": ".py",
   "mimetype": "text/x-python",
   "name": "python",
   "nbconvert_exporter": "python",
   "pygments_lexer": "ipython3",
   "version": "3.8.5"
  }
 },
 "nbformat": 4,
 "nbformat_minor": 5
}
