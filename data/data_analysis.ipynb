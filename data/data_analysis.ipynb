{
 "cells": [
  {
   "cell_type": "code",
   "execution_count": 101,
   "id": "chinese-still",
   "metadata": {},
   "outputs": [],
   "source": [
    "from os import environ\n",
    "from sqlalchemy import create_engine\n",
    "import pandas as pd\n",
    "import matplotlib.pyplot as plt\n",
    "import math\n",
    "import networkx as nx\n",
    "import numpy as np"
   ]
  },
  {
   "cell_type": "code",
   "execution_count": 2,
   "id": "thorough-plastic",
   "metadata": {},
   "outputs": [],
   "source": [
    "engine = create_engine()\n",
    "\n"
   ]
  },
  {
   "cell_type": "code",
   "execution_count": 12,
   "id": "sixth-midnight",
   "metadata": {},
   "outputs": [],
   "source": [
    "user_df = pd.read_sql_table(\n",
    "    \"user\",\n",
    "    con=engine,\n",
    "    schema='public',\n",
    "    coerce_float=True,\n",
    "    parse_dates=['created_at'],\n",
    ")\n",
    "\n",
    "chat_df = pd.read_sql_table(\n",
    "    \"chat_message\",\n",
    "    con=engine,\n",
    "    schema='public',\n",
    "    index_col = 'id',\n",
    "    coerce_float=True,\n",
    "    parse_dates=[\n",
    "        'created_at',\n",
    "        'updated_at'\n",
    "    ],\n",
    ")\n",
    "group_df = pd.read_sql_table(\n",
    "    \"group\",\n",
    "    con=engine,\n",
    "    schema='public',\n",
    "    index_col = 'name',\n",
    "    coerce_float=True,\n",
    "    parse_dates=[\n",
    "        'created_at',\n",
    "        'updated_at'\n",
    "    ],\n",
    ")\n",
    "\n",
    "workout_df = pd.read_sql_table(\n",
    "    \"workout\",\n",
    "    con=engine,\n",
    "    schema='public',\n",
    "    index_col = 'id',\n",
    "    coerce_float=True,\n",
    "    parse_dates=[\n",
    "        'created_at',\n",
    "        'updated_at'\n",
    "    ],\n",
    ")\n",
    "\n",
    "\n",
    "user_exercise_df = pd.read_sql_table(\n",
    "    \"user_exercise\",\n",
    "    con=engine,\n",
    "    schema='public',\n",
    "    index_col = ['slug_name', 'username'],\n",
    "    coerce_float=True,\n",
    "    parse_dates=[\n",
    "        'created_at',\n",
    "        'updated_at'\n",
    "    ],\n",
    ")\n",
    "\n",
    "battle_df = pd.read_sql_table(\n",
    "    \"battle\",\n",
    "    con=engine,\n",
    "    schema='public',\n",
    "    coerce_float=True,\n",
    "    parse_dates=[\n",
    "        'created_at',\n",
    "        'updated_at'\n",
    "    ],\n",
    ")\n",
    "\n",
    "\n",
    "session_analytics_df = pd.read_sql('select id, username, created_at, array_to_json(analytics) as path from \"session_analytics\"', con = engine)\n",
    "\n",
    "\n",
    "\n",
    "\n"
   ]
  },
  {
   "cell_type": "code",
   "execution_count": 13,
   "id": "historic-sphere",
   "metadata": {},
   "outputs": [],
   "source": [
    "from datetime import datetime, timedelta\n",
    "created_at = session_analytics_df.iloc[0]['created_at']\n",
    "sections = []\n",
    "\n",
    "for row in session_analytics_df.iterrows():\n",
    "    for section in row[1]['path']:\n",
    "        sections.append([row[1]['id'], section['section'], created_at])\n",
    "        created_at += timedelta(seconds=section['time_spent'])"
   ]
  },
  {
   "cell_type": "code",
   "execution_count": 188,
   "id": "automatic-filename",
   "metadata": {},
   "outputs": [],
   "source": [
    "section_to_ID = {\"strengthModalVisible\": 0,\n",
    "                 \"workoutModalVisible\": 1,\n",
    "                 \"chatModalVisible\": 2,\n",
    "                 \"UserTab\": 3,\n",
    "                 \"MembersTab\": 4, \n",
    "                 \"EnemyTab\": 5}\n",
    "#[i][j] should denote the number of times i lead to j"
   ]
  },
  {
   "cell_type": "code",
   "execution_count": 258,
   "id": "decent-acting",
   "metadata": {},
   "outputs": [
    {
     "data": {
      "text/plain": [
       "15"
      ]
     },
     "execution_count": 258,
     "metadata": {},
     "output_type": "execute_result"
    }
   ],
   "source": [
    "section_before_after = np.zeros((7,7))\n",
    "for row in session_analytics_df.iterrows():\n",
    "    previous_section_id = None\n",
    "    for section in row[1]['path']:\n",
    "        try:\n",
    "            current_id = section_to_ID[section['section']]\n",
    "        except:\n",
    "            continue\n",
    "        if previous_section_id != None: \n",
    "            section_before_after[previous_section_id][current_id] += 1\n",
    "        previous_section_id = current_id\n",
    "for i in range(7):\n",
    "   section_before_after[i][i] = 0\n",
    "non_0 = section_before_after.nonzero()\n",
    "tuples = []\n",
    "for t in range(15):\n",
    "    r = non_0[0][t]\n",
    "    c = non_0[1][t]\n",
    "    tuples.append((r, c, section_before_after[r][c]))"
   ]
  },
  {
   "cell_type": "code",
   "execution_count": 320,
   "id": "breeding-coordinate",
   "metadata": {},
   "outputs": [
    {
     "ename": "SyntaxError",
     "evalue": "invalid character in identifier (<ipython-input-320-b71edabb87c8>, line 6)",
     "output_type": "error",
     "traceback": [
      "\u001b[0;36m  File \u001b[0;32m\"<ipython-input-320-b71edabb87c8>\"\u001b[0;36m, line \u001b[0;32m6\u001b[0m\n\u001b[0;31m    connectionstyle=’arc3,rad=0.2’\u001b[0m\n\u001b[0m                        ^\u001b[0m\n\u001b[0;31mSyntaxError\u001b[0m\u001b[0;31m:\u001b[0m invalid character in identifier\n"
     ]
    }
   ],
   "source": [
    "FG = nx.DiGraph()\n",
    "FG.add_weighted_edges_from(tuples)\n",
    "max_val = section_before_after.max()\n",
    "arcs = nx.draw_networkx_edges(FG,  \n",
    "                                pos=nx.circular_layout(FG),\n",
    "                                connectionstyle=’arc3,rad=0.2’\n",
    "                             )\n",
    "for i, arc in enumerate(arcs):  # change alpha values of arcs\n",
    "    print(tuples[i][2] / max_val)\n",
    "    arc.set_alpha(tuples[i][2] / max_val) \n",
    "nx.draw_networkx_nodes(FG, pos=nx.circular_layout(FG))"
   ]
  },
  {
   "cell_type": "code",
   "execution_count": 133,
   "id": "absolute-polyester",
   "metadata": {},
   "outputs": [],
   "source": [
    "user_with_counts = user_df\n",
    "counts = user_with_counts.groupby('groupname').count().reset_index().rename(columns = {\"created_at\": \"Number of members\"})[['groupname', 'Number of members']]\n",
    "user_with_counts = user_with_counts.merge(counts, on = \"groupname\", how = \"left\")\n",
    "user_with_counts['Number of members'] = user_with_counts['Number of members'].apply(lambda x:  0 if math.isnan(x) else x)\n",
    "\n",
    "counts = workout_df.groupby('username').count().reset_index().rename(columns = {\"created_at\": \"Tracked workouts\"})[['username', 'Tracked workouts']]\n",
    "user_with_counts = user_with_counts.merge(counts, on = \"username\", how = \"left\")\n",
    "user_with_counts['Tracked workouts'] = user_with_counts['Tracked workouts'].apply(lambda x:  0 if math.isnan(x) else x)\n",
    "\n",
    "counts = user_exercise_df.groupby('username').count().reset_index().rename(columns = {\"created_at\": \"Tracked personal bests\"})[['username', 'Tracked personal bests']]\n",
    "user_with_counts = user_with_counts.merge(counts, on = \"username\", how = \"left\")\n",
    "user_with_counts['Tracked personal bests'] = user_with_counts['Tracked personal bests'].apply(lambda x:  0 if math.isnan(x) else x)\n",
    "\n",
    "counts = chat_df.groupby('username').count().reset_index().rename(columns = {\"created_at\": \"Chat messages\"})[['username', 'Chat messages']]\n",
    "user_with_counts = user_with_counts.merge(counts, on = \"username\", how = \"left\")\n",
    "user_with_counts['Chat messages'] = user_with_counts['Chat messages'].apply(lambda x:  0 if math.isnan(x) else x)\n",
    "\n",
    "counts = session_analytics_df.groupby('username').count().reset_index().rename(columns = {\"created_at\": \"Number of app opens\"})[['username', 'Number of app opens']]\n",
    "user_with_counts = user_with_counts.merge(counts, on = \"username\", how = \"left\")\n",
    "user_with_counts['Number of app opens'] = user_with_counts['Number of app opens'].apply(lambda x:  0 if math.isnan(x) else x)\n",
    "\n",
    "\n",
    "\n",
    "\n"
   ]
  },
  {
   "cell_type": "code",
   "execution_count": 61,
   "id": "about-reality",
   "metadata": {},
   "outputs": [
    {
     "data": {
      "text/plain": [
       "Text(0, 0.5, 'Average per-user actions')"
      ]
     },
     "execution_count": 61,
     "metadata": {},
     "output_type": "execute_result"
    },
    {
     "data": {
      "image/png": "[encoded data removed]",
      "text/plain": [
       "<Figure size 432x288 with 1 Axes>"
      ]
     },
     "metadata": {
      "needs_background": "light"
     },
     "output_type": "display_data"
    }
   ],
   "source": [
    "to_plot = user_with_counts.groupby('Number of members').mean()\n",
    "ax = to_plot.plot.bar(width = 0.7, title = \"Average per-user app actions based on team size\")\n",
    "ax.set_ylabel(\"Average per-user actions\")"
   ]
  },
  {
   "cell_type": "code",
   "execution_count": 62,
   "id": "actual-horizon",
   "metadata": {},
   "outputs": [
    {
     "name": "stderr",
     "output_type": "stream",
     "text": [
      "<ipython-input-62-e0cf29219f94>:3: UserWarning: Boolean Series key will be reindexed to match DataFrame index.\n",
      "  next_battle = next_battle[battle_df['battle_number'] == row['battle_number'] + 1]\n",
      "<ipython-input-62-e0cf29219f94>:3: UserWarning: Boolean Series key will be reindexed to match DataFrame index.\n",
      "  next_battle = next_battle[battle_df['battle_number'] == row['battle_number'] + 1]\n",
      "<ipython-input-62-e0cf29219f94>:3: UserWarning: Boolean Series key will be reindexed to match DataFrame index.\n",
      "  next_battle = next_battle[battle_df['battle_number'] == row['battle_number'] + 1]\n",
      "<ipython-input-62-e0cf29219f94>:3: UserWarning: Boolean Series key will be reindexed to match DataFrame index.\n",
      "  next_battle = next_battle[battle_df['battle_number'] == row['battle_number'] + 1]\n",
      "<ipython-input-62-e0cf29219f94>:3: UserWarning: Boolean Series key will be reindexed to match DataFrame index.\n",
      "  next_battle = next_battle[battle_df['battle_number'] == row['battle_number'] + 1]\n",
      "<ipython-input-62-e0cf29219f94>:3: UserWarning: Boolean Series key will be reindexed to match DataFrame index.\n",
      "  next_battle = next_battle[battle_df['battle_number'] == row['battle_number'] + 1]\n",
      "<ipython-input-62-e0cf29219f94>:3: UserWarning: Boolean Series key will be reindexed to match DataFrame index.\n",
      "  next_battle = next_battle[battle_df['battle_number'] == row['battle_number'] + 1]\n",
      "<ipython-input-62-e0cf29219f94>:3: UserWarning: Boolean Series key will be reindexed to match DataFrame index.\n",
      "  next_battle = next_battle[battle_df['battle_number'] == row['battle_number'] + 1]\n",
      "<ipython-input-62-e0cf29219f94>:3: UserWarning: Boolean Series key will be reindexed to match DataFrame index.\n",
      "  next_battle = next_battle[battle_df['battle_number'] == row['battle_number'] + 1]\n",
      "<ipython-input-62-e0cf29219f94>:3: UserWarning: Boolean Series key will be reindexed to match DataFrame index.\n",
      "  next_battle = next_battle[battle_df['battle_number'] == row['battle_number'] + 1]\n",
      "<ipython-input-62-e0cf29219f94>:3: UserWarning: Boolean Series key will be reindexed to match DataFrame index.\n",
      "  next_battle = next_battle[battle_df['battle_number'] == row['battle_number'] + 1]\n",
      "<ipython-input-62-e0cf29219f94>:3: UserWarning: Boolean Series key will be reindexed to match DataFrame index.\n",
      "  next_battle = next_battle[battle_df['battle_number'] == row['battle_number'] + 1]\n",
      "<ipython-input-62-e0cf29219f94>:3: UserWarning: Boolean Series key will be reindexed to match DataFrame index.\n",
      "  next_battle = next_battle[battle_df['battle_number'] == row['battle_number'] + 1]\n",
      "<ipython-input-62-e0cf29219f94>:3: UserWarning: Boolean Series key will be reindexed to match DataFrame index.\n",
      "  next_battle = next_battle[battle_df['battle_number'] == row['battle_number'] + 1]\n",
      "<ipython-input-62-e0cf29219f94>:3: UserWarning: Boolean Series key will be reindexed to match DataFrame index.\n",
      "  next_battle = next_battle[battle_df['battle_number'] == row['battle_number'] + 1]\n",
      "<ipython-input-62-e0cf29219f94>:3: UserWarning: Boolean Series key will be reindexed to match DataFrame index.\n",
      "  next_battle = next_battle[battle_df['battle_number'] == row['battle_number'] + 1]\n",
      "<ipython-input-62-e0cf29219f94>:3: UserWarning: Boolean Series key will be reindexed to match DataFrame index.\n",
      "  next_battle = next_battle[battle_df['battle_number'] == row['battle_number'] + 1]\n",
      "<ipython-input-62-e0cf29219f94>:3: UserWarning: Boolean Series key will be reindexed to match DataFrame index.\n",
      "  next_battle = next_battle[battle_df['battle_number'] == row['battle_number'] + 1]\n",
      "<ipython-input-62-e0cf29219f94>:3: UserWarning: Boolean Series key will be reindexed to match DataFrame index.\n",
      "  next_battle = next_battle[battle_df['battle_number'] == row['battle_number'] + 1]\n",
      "<ipython-input-62-e0cf29219f94>:3: UserWarning: Boolean Series key will be reindexed to match DataFrame index.\n",
      "  next_battle = next_battle[battle_df['battle_number'] == row['battle_number'] + 1]\n",
      "<ipython-input-62-e0cf29219f94>:3: UserWarning: Boolean Series key will be reindexed to match DataFrame index.\n",
      "  next_battle = next_battle[battle_df['battle_number'] == row['battle_number'] + 1]\n",
      "<ipython-input-62-e0cf29219f94>:3: UserWarning: Boolean Series key will be reindexed to match DataFrame index.\n",
      "  next_battle = next_battle[battle_df['battle_number'] == row['battle_number'] + 1]\n",
      "<ipython-input-62-e0cf29219f94>:3: UserWarning: Boolean Series key will be reindexed to match DataFrame index.\n",
      "  next_battle = next_battle[battle_df['battle_number'] == row['battle_number'] + 1]\n",
      "<ipython-input-62-e0cf29219f94>:3: UserWarning: Boolean Series key will be reindexed to match DataFrame index.\n",
      "  next_battle = next_battle[battle_df['battle_number'] == row['battle_number'] + 1]\n"
     ]
    }
   ],
   "source": [
    "def get_end_date(row):\n",
    "    next_battle = battle_df[battle_df['groupname'] == row['groupname']]\n",
    "    next_battle = next_battle[battle_df['battle_number'] == row['battle_number'] + 1]\n",
    "    if len(next_battle):\n",
    "        row['ended_at'] = next_battle.iloc[0]['created_at']\n",
    "    return row\n",
    "with_end_times = battle_df.apply(get_end_date, axis = 1)\n",
    "with_end_times = with_end_times[with_end_times['ended_at'].notnull()]\n",
    "with_end_times = with_end_times.rename(columns = {\"created_at\": 'battle_created_at'})\n",
    "with_end_times['time_range'] = with_end_times['ended_at'] - with_end_times['battle_created_at']\n"
   ]
  },
  {
   "cell_type": "code",
   "execution_count": 88,
   "id": "revised-export",
   "metadata": {},
   "outputs": [],
   "source": [
    "workouts_end_times = workout_df.merge(with_end_times, on = ['groupname', 'battle_number']).rename(columns = {'created_at': 'workout_created_at'})"
   ]
  },
  {
   "cell_type": "code",
   "execution_count": 89,
   "id": "intense-warren",
   "metadata": {},
   "outputs": [
    {
     "data": {
      "text/plain": [
       "(array([ 5.,  3.,  5.,  1.,  1.,  3.,  2., 19.]),\n",
       " array([5.77450965e-05, 1.25050527e-01, 2.50043309e-01, 3.75036091e-01,\n",
       "        5.00028873e-01, 6.25021654e-01, 7.50014436e-01, 8.75007218e-01,\n",
       "        1.00000000e+00]),\n",
       " <a list of 8 Patch objects>)"
      ]
     },
     "execution_count": 89,
     "metadata": {},
     "output_type": "execute_result"
    },
    {
     "data": {
      "image/png": "[encoded data removed]",
      "text/plain": [
       "<Figure size 432x288 with 1 Axes>"
      ]
     },
     "metadata": {
      "needs_background": "light"
     },
     "output_type": "display_data"
    }
   ],
   "source": [
    "workouts_end_times['workout_created_after'] = (workouts_end_times['workout_created_at'] - workouts_end_times['battle_created_at'])\n",
    "workouts_end_times['battle_duration'] = workouts_end_times['ended_at'] - workouts_end_times['battle_created_at']\n",
    "workouts_end_times['workouts_created_ratio'] = workouts_end_times['workout_created_after'] / workouts_end_times['battle_duration'] \n",
    "\n",
    "ax = plt.axes()\n",
    "ax.set_xlabel('Ratio of elapsed battle time')\n",
    "ax.set_ylabel('Tracked workouts')\n",
    "ax.set_title(\"Total tracked workouts over the duration of an average battle\")\n",
    "plt.hist(workouts_end_times.sort_values('workouts_created_ratio')['workouts_created_ratio'], 8)"
   ]
  },
  {
   "cell_type": "code",
   "execution_count": 86,
   "id": "reflected-klein",
   "metadata": {},
   "outputs": [
    {
     "name": "stderr",
     "output_type": "stream",
     "text": [
      "<ipython-input-86-ae3ea189bde8>:3: UserWarning: Boolean Series key will be reindexed to match DataFrame index.\n",
      "  query = query[with_end_times['groupname'] == row['groupname']]\n"
     ]
    },
    {
     "data": {
      "text/plain": [
       "(array([12.,  4.,  3.,  0.,  1.,  4.,  2.,  1.,  4.,  2.]),\n",
       " array([8.73753297e-05, 1.00078638e-01, 2.00069900e-01, 3.00061163e-01,\n",
       "        4.00052425e-01, 5.00043688e-01, 6.00034950e-01, 7.00026213e-01,\n",
       "        8.00017475e-01, 9.00008738e-01, 1.00000000e+00]),\n",
       " <a list of 10 Patch objects>)"
      ]
     },
     "execution_count": 86,
     "metadata": {},
     "output_type": "execute_result"
    },
    {
     "data": {
      "image/png": "[encoded data removed]",
      "text/plain": [
       "<Figure size 432x288 with 1 Axes>"
      ]
     },
     "metadata": {
      "needs_background": "light"
     },
     "output_type": "display_data"
    }
   ],
   "source": [
    "def get_time_ratio(row):\n",
    "    query = with_end_times[(with_end_times['battle_created_at'] <= row['created_at']) & (row['created_at'] <= with_end_times['ended_at'])]\n",
    "    query = query[with_end_times['groupname'] == row['groupname']]\n",
    "    if len(query):\n",
    "        interval = (row['created_at'] - query.iloc[0]['battle_created_at']).total_seconds() \n",
    "        trange = query.iloc[0]['time_range'].total_seconds()\n",
    "        row['battle_time_ratio'] =(interval / trange)\n",
    "    return row\n",
    "with_ratios = chat_df.apply(get_time_ratio, axis = 1)\n",
    "ax = plt.axes()\n",
    "ax.set_xlabel('Ratio of elapsed battle time')\n",
    "ax.set_ylabel('Total sent messages')\n",
    "ax.set_title(\"Total messages sent over the ratio of elapsed battle time\")\n",
    "plt.hist(with_ratios['battle_time_ratio'], bins = 10)"
   ]
  },
  {
   "cell_type": "code",
   "execution_count": 92,
   "id": "finnish-chinese",
   "metadata": {},
   "outputs": [
    {
     "name": "stderr",
     "output_type": "stream",
     "text": [
      "<ipython-input-86-ae3ea189bde8>:3: UserWarning: Boolean Series key will be reindexed to match DataFrame index.\n",
      "  query = query[with_end_times['groupname'] == row['groupname']]\n"
     ]
    },
    {
     "data": {
      "text/plain": [
       "(array([113.,  33.,  25.,   9.,  14.,  40.,  12.,  18.,  56.,  90.]),\n",
       " array([5.75971019e-05, 1.00039462e-01, 2.00021327e-01, 3.00003192e-01,\n",
       "        3.99985057e-01, 4.99966922e-01, 5.99948787e-01, 6.99930652e-01,\n",
       "        7.99912517e-01, 8.99894382e-01, 9.99876248e-01]),\n",
       " <a list of 10 Patch objects>)"
      ]
     },
     "execution_count": 92,
     "metadata": {},
     "output_type": "execute_result"
    },
    {
     "data": {
      "image/png": "[encoded data removed]",
      "text/plain": [
       "<Figure size 432x288 with 1 Axes>"
      ]
     },
     "metadata": {
      "needs_background": "light"
     },
     "output_type": "display_data"
    }
   ],
   "source": [
    "sessions_with_groups = session_analytics_df.merge(user_df.drop(columns=['created_at']), on = \"username\")\n",
    "sessions_with_ratios = sessions_with_groups.apply(get_time_ratio, axis = 1)\n",
    "ax = plt.axes()\n",
    "ax.set_xlabel('Ratio of elapsed battle time')\n",
    "ax.set_ylabel('Times app was opened')\n",
    "ax.set_title(\"Total times app was opened over the ratio of elapsed battle time\")\n",
    "plt.hist(sessions_with_ratios['battle_time_ratio'], bins = 10)"
   ]
  }
 ],
 "metadata": {
  "kernelspec": {
   "display_name": "Python 3",
   "language": "python",
   "name": "python3"
  },
  "language_info": {
   "codemirror_mode": {
    "name": "ipython",
    "version": 3
   },
   "file_extension": ".py",
   "mimetype": "text/x-python",
   "name": "python",
   "nbconvert_exporter": "python",
   "pygments_lexer": "ipython3",
   "version": "3.8.5"
  }
 },
 "nbformat": 4,
 "nbformat_minor": 5
}
